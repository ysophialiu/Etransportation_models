{
 "cells": [
  {
   "cell_type": "markdown",
   "metadata": {},
   "source": [
    "# What this file does:\n",
    "\n",
    "* define parameters in the charging choice function\n",
    "* define charging choice function \n",
    "\n",
    "# How the marks work:\n",
    "\n",
    "## <span style='background :orange' > define parameters\n",
    "\n",
    "## <span style='background :yellow' >  save data\n",
    "\n",
    "## <span style='background :lightblue' > call saved data\n",
    "    \n",
    "# \\* Start here"
   ]
  },
  {
   "cell_type": "markdown",
   "metadata": {},
   "source": [
    "# Charging choice function"
   ]
  },
  {
   "cell_type": "markdown",
   "metadata": {},
   "source": [
    "##  <span style='background :orange' > define charging choice parameters"
   ]
  },
  {
   "cell_type": "raw",
   "metadata": {},
   "source": [
    "charge_behave = 'dislike_fast_charge'\n",
    "#'base' 'low_risk_sensitive' 'high_risk_sensitive' \n",
    "#'prefer_fast_charge' 'dislike_fast_charge' \n",
    "###################################\n",
    "#'high_cost_sensitive' \n",
    "#'low_range_buffer'"
   ]
  },
  {
   "cell_type": "code",
   "execution_count": null,
   "metadata": {},
   "outputs": [],
   "source": [
    "def charging_behavior_parameter(cases):\n",
    "    # beta_SOC,beta_R,beta_delta_SOC,beta_0,beta_cost,beta_SOC_0,lbd\n",
    "    parameter_list = [[3,0,2,1,0.1,0.3,1],\n",
    "                     [8,0,2,1,0.1,0.3,1],\n",
    "                     [2,0,2,1,0.1,0.3,1],\n",
    "                     [3,0.005,2,1,0.1,0.3,1],\n",
    "                     [3,-0.005,2,1,0.1,0.3,1],\n",
    "                     [3,0,2,1,0.2,0.3,1],\n",
    "                     [3,0,2,1,0.1,0.2,1]]\n",
    "                     \n",
    "    \n",
    "    if cases == 'base':\n",
    "        res = parameter_list[0]\n",
    "    if cases == 'low_risk_sensitive':\n",
    "        res = parameter_list[1]\n",
    "    if cases == 'high_risk_sensitive':\n",
    "        res = parameter_list[2]\n",
    "    if cases == 'prefer_fast_charge':\n",
    "        res = parameter_list[3]\n",
    "    if cases == 'dislike_fast_charge':\n",
    "        res = parameter_list[4]\n",
    "    if cases == 'high_cost_sensitive':\n",
    "        res = parameter_list[5]\n",
    "    if cases == 'low_range_buffer':\n",
    "        res = parameter_list[6]\n",
    "    return res"
   ]
  },
  {
   "cell_type": "raw",
   "metadata": {},
   "source": [
    "def charging_behavior_parameter(cases):\n",
    "    \n",
    "    parameter_list = [[3,0,5,1,0.1,0.3,1],\n",
    "                     [10,0,5,1,0.1,0.3,1],\n",
    "                     [2,0,5,1,0.1,0.3,1],\n",
    "                     [3,0.005,5,1,0.1,0.3,1],\n",
    "                     [3,-0.005,5,1,0.1,0.3,1],\n",
    "                     [3,0,2,1,0.1,0.3,1],\n",
    "                     [3,0,5,1,0.1,0.2,1]]\n",
    "    \n",
    "    if cases == 'base':\n",
    "        res = parameter_list[0]\n",
    "    if cases == 'low_risk_sensitive':\n",
    "        res = parameter_list[1]\n",
    "    if cases == 'high_risk_sensitive':\n",
    "        res = parameter_list[2]\n",
    "    if cases == 'prefer_fast_charge':\n",
    "        res = parameter_list[3]\n",
    "    if cases == 'dislike_fast_charge':\n",
    "        res = parameter_list[4]\n",
    "    if cases == 'high_cost_sensitive':\n",
    "        res = parameter_list[5]\n",
    "    if cases == 'low_range_buffer':\n",
    "        res = parameter_list[6]\n",
    "    return res"
   ]
  },
  {
   "cell_type": "raw",
   "metadata": {},
   "source": [
    "####### old data\n",
    "\n",
    "import numpy as np\n",
    "\n",
    "# SOC preference\n",
    "beta_SOC = 3 #2 #10 #3  \n",
    "\n",
    "# charging rate preference\n",
    "beta_R = 0.005  # 0.005 # -0.005 # 0\n",
    "\n",
    "# charging SOC preference\n",
    "beta_delta_SOC = 45 #40 #6 # 10\n",
    "\n",
    "# charging option constant\n",
    "beta_0 = 1 \n",
    "\n",
    "# cost preference\n",
    "beta_cost = 1 "
   ]
  },
  {
   "cell_type": "raw",
   "metadata": {},
   "source": [
    "####### data in use\n",
    "\n",
    "import numpy as np\n",
    "\n",
    "# SOC preference\n",
    "beta_SOC = 3 #2 #10 #3  \n",
    "\n",
    "# charging rate preference\n",
    "beta_R = 0 #0.003  # 0.005 # -0.005 # 0\n",
    "\n",
    "# charging SOC preference\n",
    "beta_delta_SOC = 5 #40 #6 # 10\n",
    "\n",
    "# charging option constant\n",
    "beta_0 = 1\n",
    "\n",
    "# cost preference\n",
    "beta_cost = 0.1 "
   ]
  },
  {
   "cell_type": "raw",
   "metadata": {},
   "source": [
    "# fixed parameters\n",
    "beta_SOC_0 = 0.3 # 0.3 # fixed from literature \n",
    "\n",
    "# error distribution\n",
    "lbd = 1"
   ]
  },
  {
   "cell_type": "markdown",
   "metadata": {},
   "source": [
    "### utility functions in charging choice"
   ]
  },
  {
   "cell_type": "code",
   "execution_count": 4,
   "metadata": {},
   "outputs": [],
   "source": [
    "def V_SOC(SOC_a):\n",
    "    if SOC_a == 1:\n",
    "        V_SOC = - beta_SOC*10 #replace np.inf because of calculation issue\n",
    "    elif SOC_a == 0:\n",
    "        V_SOC =   beta_SOC*10 #np.inf\n",
    "    else:\n",
    "        V_SOC = beta_SOC*np.log((1-SOC_a)/((1/beta_SOC_0-1)*SOC_a))\n",
    "    \n",
    "    return V_SOC"
   ]
  },
  {
   "cell_type": "code",
   "execution_count": 5,
   "metadata": {},
   "outputs": [],
   "source": [
    "def V_rate(rrate):\n",
    "    V_rate = beta_R*(rrate-rate[0])\n",
    "    return V_rate"
   ]
  },
  {
   "cell_type": "code",
   "execution_count": null,
   "metadata": {},
   "outputs": [],
   "source": [
    "def V_d_SOC(SOC_b):\n",
    "    V_d_SOC = beta_delta_SOC*(1-(SOC_b-1)**2)\n",
    "    return V_d_SOC"
   ]
  },
  {
   "cell_type": "code",
   "execution_count": 7,
   "metadata": {},
   "outputs": [],
   "source": [
    "def cost_home(home_price,delta_SOC_i,Enn):\n",
    "    cost_home = home_price*delta_SOC_i*Enn \n",
    "    return cost_home"
   ]
  },
  {
   "cell_type": "code",
   "execution_count": 8,
   "metadata": {},
   "outputs": [],
   "source": [
    "def V_cost(cost_a,cost_home):\n",
    "    V_cost = -beta_cost*(cost_a-cost_home) \n",
    "    return V_cost"
   ]
  },
  {
   "cell_type": "code",
   "execution_count": 11,
   "metadata": {},
   "outputs": [],
   "source": [
    "def charging_choice(SOC_l,d_time,Enn,L_available,pubprice):\n",
    "   \n",
    "    ## indirect utility of all 4 charging mode [0,L1,L2,L3]\n",
    "    \n",
    "    # charge SOC of L1, L2, L3\n",
    "    SOC_1 = [1-SOC_l]*3\n",
    "    SOC_2 = rate*(d_time/Enn)\n",
    "    SOC_3=tuple(zip(SOC_1,SOC_2))\n",
    "    delta_SOC = np.array([min(i) for i in SOC_3])\n",
    "    price = np.array([home_price,pubprice,pubprice])\n",
    "    \n",
    "    # cost of L1, L2, L3\n",
    "    cost_l = np.multiply(delta_SOC*Enn,price)\n",
    "\n",
    "    # indirect utility of all charging mode [0,L1,L2,L3]\n",
    "    V = [0]*4\n",
    "    V_r = [0]*3\n",
    "    V_d_s = [0]*3\n",
    "    V_c_home = [0]*3\n",
    "    V_c = [0]*3\n",
    "    for i in range(3):\n",
    "    \n",
    "        V_r[i] = V_rate(rate[i])\n",
    "        V_d_s[i] = V_d_SOC(delta_SOC[i])\n",
    "        V_c_home[i] = cost_home(home_price,delta_SOC[i],Enn)\n",
    "        V_c[i] = V_cost(cost_l[i],V_c_home[i])\n",
    "\n",
    "        V[i+1] = beta_0 + V_SOC(SOC_l) + V_r[i] + V_d_s[i] + V_c[i]        \n",
    "    \n",
    "    #print('V_c:',V_c)\n",
    "    #print('V_d_s:',V_d_s)    \n",
    "    #print('V_r:',V_r)\n",
    "    #print('V:',V)   \n",
    "    \n",
    "    # e^V\n",
    "    e_V = np.exp([lbd**(-1) * i for i in V]) \n",
    "    for i in range(len(L_available)):\n",
    "        if L_available[i] == 0:\n",
    "            e_V[i+1] = 0\n",
    "        \n",
    "    #print('e_V',e_V)\n",
    "    sum_e_V = sum(e_V)\n",
    "    \n",
    "    p_l = e_V/sum_e_V\n",
    "    #print('p',p_l)\n",
    "    #print('probability per L',p_l)\n",
    "    draw = np.random.choice(range(4), 1, p=p_l)\n",
    "    return draw, p_l #, V, SOC_2,  V_d_s, V_c, delta_SOC"
   ]
  }
 ],
 "metadata": {
  "kernelspec": {
   "display_name": "Python 3",
   "language": "python",
   "name": "python3"
  },
  "language_info": {
   "codemirror_mode": {
    "name": "ipython",
    "version": 3
   },
   "file_extension": ".py",
   "mimetype": "text/x-python",
   "name": "python",
   "nbconvert_exporter": "python",
   "pygments_lexer": "ipython3",
   "version": "3.7.4"
  }
 },
 "nbformat": 4,
 "nbformat_minor": 2
}
