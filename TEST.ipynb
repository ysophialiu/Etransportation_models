{
 "cells": [
  {
   "cell_type": "code",
   "execution_count": 1,
   "metadata": {},
   "outputs": [
    {
     "name": "stderr",
     "output_type": "stream",
     "text": [
      "c:\\Users\\Richard Lin\\anaconda3\\envs\\mengproject_win\\lib\\site-packages\\tqdm\\auto.py:21: TqdmWarning: IProgress not found. Please update jupyter and ipywidgets. See https://ipywidgets.readthedocs.io/en/stable/user_install.html\n",
      "  from .autonotebook import tqdm as notebook_tqdm\n"
     ]
    }
   ],
   "source": [
    "import numpy as np\n",
    "from etransportmodel.trip_data import TripData\n",
    "from etransportmodel.charging_choice import ChargingChoice\n",
    "from etransportmodel.charging_demand import ChargingDemand\n",
    "from etransportmodel.charging_placement import ChargingPlacement\n",
    "from etransportmodel.optimization_solvers import OptimizationSolvers"
   ]
  },
  {
   "cell_type": "code",
   "execution_count": 2,
   "metadata": {},
   "outputs": [],
   "source": [
    "### Define Parameters\n",
    "shapefile = \"example_data/Model_Traffic_Analysis_Zones_2020.shp\"\n",
    "tripfile = 'example_data/EV_trip.p'\n",
    "en = {0:60, 1:100, 2:100}\n",
    "cn = {0:0.3, 1:0.3, 2:0.35}\n",
    "prob_en = [0.3,0.6,0.1]\n",
    "snr = [0,1,2]\n",
    "charge_behave = 'dislike_fast_charge'\n",
    "rate = np.array([3.6,6.2,150]) \n",
    "rate_name= ['h2','l2','l3'] \n",
    "location_name = ['home','work','public']\n",
    "home_price = 0.13\n",
    "D = 2\n",
    "test_pub_price = 0.43\n",
    "L_available = [0,1,1]\n",
    "pub_price = 0.43\n",
    "zzones = 'SD10'\n",
    "year = 10\n",
    "discount_rate = 0.05\n",
    "scale_to_year = 365\n",
    "station_efficiency = 0.95\n",
    "electricity_cost = 0.11\n",
    "L2_buy_cost = 3450\n",
    "L2_build_cost = 3000\n",
    "DCFC_buy_cost = 25000\n",
    "DCFC_build_cost = 21000\n"
   ]
  },
  {
   "cell_type": "code",
   "execution_count": 5,
   "metadata": {},
   "outputs": [],
   "source": [
    "newTrip = TripData(\n",
    "    shapefile=shapefile,\n",
    "    tripfile=tripfile,\n",
    "    en=en,\n",
    "    cn=cn,\n",
    "    prob_en=prob_en,\n",
    "    snr=snr,\n",
    "    charge_behave=charge_behave,\n",
    "    rate=rate,\n",
    "    location_name=location_name,\n",
    "    home_price=home_price,\n",
    "    D=D,\n",
    "    test_pub_price=test_pub_price,\n",
    "    L_available=L_available,\n",
    "    pub_price=pub_price,\n",
    "    zzones=zzones,\n",
    "    year=year,\n",
    "    discount_rate=discount_rate,\n",
    "    scale_to_year=scale_to_year,\n",
    "    station_efficiency=station_efficiency,\n",
    "    electricity_cost=electricity_cost,\n",
    "    L2_buy_cost=L2_buy_cost,\n",
    "    L2_build_cost=L2_build_cost,\n",
    "    DCFC_buy_cost=DCFC_buy_cost,\n",
    "    DCFC_build_cost=DCFC_build_cost,\n",
    ")\n"
   ]
  },
  {
   "cell_type": "code",
   "execution_count": 6,
   "metadata": {},
   "outputs": [],
   "source": [
    "# Charging Choice\n",
    "choiceModel = ChargingChoice(newTrip)"
   ]
  },
  {
   "cell_type": "code",
   "execution_count": 7,
   "metadata": {},
   "outputs": [],
   "source": [
    "demandModel = ChargingDemand(newTrip)"
   ]
  },
  {
   "cell_type": "code",
   "execution_count": 8,
   "metadata": {},
   "outputs": [],
   "source": [
    "placementModel = ChargingPlacement(newTrip)"
   ]
  },
  {
   "cell_type": "code",
   "execution_count": 9,
   "metadata": {},
   "outputs": [],
   "source": [
    "optimizationSolverModel = OptimizationSolvers(\n",
    "    newTrip,\n",
    "    low_dim=5, \n",
    "    x_l_bound=-1, \n",
    "    x_u_bound=1, \n",
    "    y_variance=0.1\n",
    ")"
   ]
  }
 ],
 "metadata": {
  "kernelspec": {
   "display_name": "mengproject",
   "language": "python",
   "name": "python3"
  },
  "language_info": {
   "codemirror_mode": {
    "name": "ipython",
    "version": 3
   },
   "file_extension": ".py",
   "mimetype": "text/x-python",
   "name": "python",
   "nbconvert_exporter": "python",
   "pygments_lexer": "ipython3",
   "version": "3.9.19"
  }
 },
 "nbformat": 4,
 "nbformat_minor": 2
}
